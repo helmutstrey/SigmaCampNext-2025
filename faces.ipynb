{
 "cells": [
  {
   "cell_type": "code",
   "execution_count": 1,
   "id": "b7e93841-6d68-4acf-9100-0035cef0044b",
   "metadata": {},
   "outputs": [
    {
     "name": "stderr",
     "output_type": "stream",
     "text": [
      "\u001b[32m\u001b[1m  Activating\u001b[22m\u001b[39m project at `~/Documents/programming/SigmaCampNext-2025`\n"
     ]
    }
   ],
   "source": [
    "import Pkg\n",
    "Pkg.activate(\".\")"
   ]
  },
  {
   "cell_type": "code",
   "execution_count": 2,
   "id": "f8ab500a-ae6d-48db-a7c5-9a7beee01936",
   "metadata": {},
   "outputs": [
    {
     "name": "stderr",
     "output_type": "stream",
     "text": [
      "\u001b[32m\u001b[1m   Resolving\u001b[22m\u001b[39m package versions...\n",
      "\u001b[32m\u001b[1m    Updating\u001b[22m\u001b[39m `~/Documents/programming/SigmaCampNext-2025/Project.toml`\n",
      "  \u001b[90m[23992714] \u001b[39m\u001b[92m+ MAT v0.10.7\u001b[39m\n",
      "\u001b[32m\u001b[1m    Updating\u001b[22m\u001b[39m `~/Documents/programming/SigmaCampNext-2025/Manifest.toml`\n",
      "  \u001b[90m[e1450e63] \u001b[39m\u001b[92m+ BufferedStreams v1.2.2\u001b[39m\n",
      "  \u001b[90m[944b1d66] \u001b[39m\u001b[92m+ CodecZlib v0.7.8\u001b[39m\n",
      "  \u001b[90m[f67ccb44] \u001b[39m\u001b[92m+ HDF5 v0.17.2\u001b[39m\n",
      "  \u001b[90m[23992714] \u001b[39m\u001b[92m+ MAT v0.10.7\u001b[39m\n",
      "  \u001b[90m[3da0fdf6] \u001b[39m\u001b[92m+ MPIPreferences v0.1.11\u001b[39m\n",
      "  \u001b[90m[0234f1f7] \u001b[39m\u001b[92m+ HDF5_jll v1.14.6+0\u001b[39m\n",
      "  \u001b[90m[e33a78d0] \u001b[39m\u001b[92m+ Hwloc_jll v2.12.1+0\u001b[39m\n",
      "  \u001b[90m[7cb0a576] \u001b[39m\u001b[92m+ MPICH_jll v4.3.1+0\u001b[39m\n",
      "  \u001b[90m[f1f71cc9] \u001b[39m\u001b[92m+ MPItrampoline_jll v5.5.4+0\u001b[39m\n",
      "  \u001b[90m[9237b28f] \u001b[39m\u001b[92m+ MicrosoftMPI_jll v10.1.4+3\u001b[39m\n",
      "  \u001b[90m[fe0851c0] \u001b[39m\u001b[92m+ OpenMPI_jll v5.0.8+0\u001b[39m\n",
      "  \u001b[90m[477f73a3] \u001b[39m\u001b[92m+ libaec_jll v1.1.3+0\u001b[39m\n",
      "\u001b[92m\u001b[1mPrecompiling\u001b[22m\u001b[39m project...\n",
      "    349.7 ms\u001b[32m  ✓ \u001b[39m\u001b[90mMPIPreferences\u001b[39m\n",
      "    281.9 ms\u001b[32m  ✓ \u001b[39m\u001b[90mMicrosoftMPI_jll\u001b[39m\n",
      "    307.3 ms\u001b[32m  ✓ \u001b[39m\u001b[90mHwloc_jll\u001b[39m\n",
      "    328.9 ms\u001b[32m  ✓ \u001b[39m\u001b[90mlibaec_jll\u001b[39m\n",
      "    810.3 ms\u001b[32m  ✓ \u001b[39m\u001b[90mOpenMPI_jll\u001b[39m\n",
      "    840.9 ms\u001b[32m  ✓ \u001b[39m\u001b[90mMPItrampoline_jll\u001b[39m\n",
      "    999.9 ms\u001b[32m  ✓ \u001b[39m\u001b[90mMPICH_jll\u001b[39m\n",
      "   1173.5 ms\u001b[32m  ✓ \u001b[39m\u001b[90mHDF5_jll\u001b[39m\n",
      "   3347.6 ms\u001b[32m  ✓ \u001b[39m\u001b[90mHDF5\u001b[39m\n",
      "   1259.3 ms\u001b[32m  ✓ \u001b[39mMAT\n",
      "  10 dependencies successfully precompiled in 8 seconds. 357 already precompiled.\n"
     ]
    }
   ],
   "source": [
    "Pkg.add(\"MAT\")"
   ]
  },
  {
   "cell_type": "code",
   "execution_count": 3,
   "id": "16b28154-7c63-4474-91b8-7e2f9fd5fd11",
   "metadata": {},
   "outputs": [],
   "source": [
    "using Images, Colors, LinearAlgebra, MAT"
   ]
  },
  {
   "cell_type": "code",
   "execution_count": 4,
   "id": "7ee3c397-a712-444d-8e12-96b64d87a39f",
   "metadata": {},
   "outputs": [
    {
     "data": {
      "text/plain": [
       "MAT.MAT_v5.Matlabv5File(IOStream(<file DATA/allFaces.mat>), false, #undef)"
      ]
     },
     "execution_count": 4,
     "metadata": {},
     "output_type": "execute_result"
    }
   ],
   "source": [
    "facefile = matopen(\"DATA/allFaces.mat\")"
   ]
  },
  {
   "cell_type": "code",
   "execution_count": 5,
   "id": "7050e27d-e1b5-4a10-aab0-2330f4a12dc1",
   "metadata": {},
   "outputs": [
    {
     "data": {
      "text/plain": [
       "KeySet for a Dict{String, Int64} with 6 entries. Keys:\n",
       "  \"faces\"\n",
       "  \"m\"\n",
       "  \"sub\"\n",
       "  \"nfaces\"\n",
       "  \"person\"\n",
       "  \"n\""
      ]
     },
     "execution_count": 5,
     "metadata": {},
     "output_type": "execute_result"
    }
   ],
   "source": [
    "k = keys(facefile)"
   ]
  },
  {
   "cell_type": "code",
   "execution_count": 6,
   "id": "6e046d21-1428-47e8-8030-a1cda5b6b839",
   "metadata": {},
   "outputs": [
    {
     "data": {
      "text/plain": [
       "192.0"
      ]
     },
     "execution_count": 6,
     "metadata": {},
     "output_type": "execute_result"
    }
   ],
   "source": [
    "n = read(facefile,\"n\")"
   ]
  },
  {
   "cell_type": "code",
   "execution_count": 7,
   "id": "e28c9055-e83b-4625-b8ee-ba34e6c6b634",
   "metadata": {},
   "outputs": [
    {
     "data": {
      "text/plain": [
       "168.0"
      ]
     },
     "execution_count": 7,
     "metadata": {},
     "output_type": "execute_result"
    }
   ],
   "source": [
    "m = read(facefile,\"m\")"
   ]
  },
  {
   "cell_type": "code",
   "execution_count": 8,
   "id": "d3df9e43-1ec2-4162-ac2e-03f2798dafb0",
   "metadata": {},
   "outputs": [
    {
     "data": {
      "text/plain": [
       "32256×2410 Matrix{Float64}:\n",
       " 80.0  94.0  59.0  16.0  69.0  53.0  …  3.0  3.0  3.0  3.0  3.0  4.0  4.0\n",
       " 81.0  87.0  67.0  14.0  67.0  52.0     3.0  2.0  3.0  4.0  4.0  4.0  3.0\n",
       " 80.0  88.0  66.0  14.0  67.0  52.0     3.0  2.0  3.0  4.0  2.0  4.0  4.0\n",
       " 79.0  87.0  74.0  15.0  69.0  50.0     3.0  4.0  2.0  2.0  3.0  4.0  4.0\n",
       " 80.0  88.0  75.0  15.0  67.0  53.0     2.0  4.0  4.0  4.0  4.0  4.0  4.0\n",
       " 82.0  86.0  76.0  15.0  70.0  53.0  …  4.0  4.0  3.0  5.0  3.0  3.0  5.0\n",
       " 79.0  93.0  85.0  15.0  72.0  57.0     3.0  4.0  3.0  4.0  4.0  3.0  5.0\n",
       " 80.0  92.0  91.0  17.0  70.0  54.0     3.0  4.0  4.0  3.0  3.0  3.0  4.0\n",
       " 83.0  90.0  92.0  16.0  68.0  52.0     4.0  4.0  4.0  3.0  3.0  3.0  4.0\n",
       " 82.0  89.0  92.0  15.0  68.0  52.0     3.0  4.0  3.0  3.0  3.0  3.0  3.0\n",
       " 78.0  87.0  89.0  16.0  68.0  51.0  …  3.0  4.0  2.0  4.0  3.0  3.0  4.0\n",
       " 81.0  86.0  88.0  16.0  69.0  51.0     3.0  3.0  3.0  3.0  3.0  3.0  3.0\n",
       " 82.0  89.0  91.0  16.0  68.0  51.0     3.0  3.0  2.0  3.0  2.0  3.0  3.0\n",
       "  ⋮                             ⋮    ⋱            ⋮                   \n",
       " 29.0  16.0   9.0   8.0  45.0  49.0     1.0  0.0  0.0  0.0  0.0  0.0  0.0\n",
       " 31.0  12.0   7.0   6.0  46.0  42.0  …  1.0  0.0  0.0  0.0  0.0  0.0  0.0\n",
       " 28.0   9.0   7.0   6.0  35.0  37.0     1.0  0.0  0.0  0.0  0.0  0.0  0.0\n",
       " 27.0  10.0   7.0   6.0  33.0  34.0     0.0  0.0  0.0  0.0  0.0  0.0  0.0\n",
       " 36.0  14.0   7.0   5.0  34.0  34.0     0.0  0.0  0.0  0.0  0.0  0.0  0.0\n",
       " 25.0  13.0   6.0   5.0  29.0  34.0     2.0  0.0  0.0  0.0  0.0  0.0  0.0\n",
       " 19.0  12.0   6.0   4.0  30.0  36.0  …  1.0  0.0  1.0  0.0  0.0  0.0  0.0\n",
       " 17.0  10.0   6.0   4.0  27.0  32.0     1.0  0.0  0.0  0.0  0.0  0.0  0.0\n",
       " 13.0   7.0   6.0   4.0  21.0  29.0     1.0  1.0  1.0  0.0  0.0  0.0  0.0\n",
       " 14.0   7.0   6.0   5.0  19.0  30.0     1.0  1.0  1.0  0.0  0.0  1.0  1.0\n",
       " 14.0   9.0   6.0   5.0  25.0  26.0     1.0  2.0  1.0  0.0  1.0  1.0  0.0\n",
       " 11.0   8.0   7.0   5.0  26.0  26.0  …  2.0  1.0  1.0  0.0  1.0  1.0  2.0"
      ]
     },
     "execution_count": 8,
     "metadata": {},
     "output_type": "execute_result"
    }
   ],
   "source": [
    "faces = read(facefile,\"faces\")"
   ]
  },
  {
   "cell_type": "code",
   "execution_count": 9,
   "id": "e12e3160-0b90-4835-9890-1a8c1ba36eb0",
   "metadata": {},
   "outputs": [
    {
     "data": {
      "text/plain": [
       "32256.0"
      ]
     },
     "execution_count": 9,
     "metadata": {},
     "output_type": "execute_result"
    }
   ],
   "source": [
    "n*m"
   ]
  },
  {
   "cell_type": "code",
   "execution_count": 10,
   "id": "fac1f7dd-c859-491b-af43-dd7c73cc683d",
   "metadata": {},
   "outputs": [
    {
     "data": {
      "image/png": "[encoded data removed]",
      "text/html": [
       "<img src=\"data:image/png;base64,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\">"
      ],
      "text/plain": [
       "192×168 Matrix{Gray{Float64}}:\n",
       " 0.231373   0.258824   0.301961   …  0.286275   0.262745   0.227451\n",
       " 0.262745   0.298039   0.321569      0.278431   0.282353   0.282353\n",
       " 0.258824   0.294118   0.329412      0.309804   0.298039   0.298039\n",
       " 0.290196   0.313725   0.337255      0.321569   0.337255   0.337255\n",
       " 0.294118   0.317647   0.341176      0.345098   0.34902    0.34902\n",
       " 0.298039   0.32549    0.352941   …  0.329412   0.337255   0.341176\n",
       " 0.333333   0.34902    0.356863      0.317647   0.32549    0.329412\n",
       " 0.356863   0.368627   0.368627      0.301961   0.309804   0.313725\n",
       " 0.360784   0.372549   0.384314      0.301961   0.301961   0.313725\n",
       " 0.360784   0.368627   0.392157      0.32549    0.321569   0.333333\n",
       " 0.34902    0.364706   0.4        …  0.329412   0.32549    0.337255\n",
       " 0.345098   0.380392   0.419608      0.321569   0.321569   0.32549\n",
       " 0.356863   0.388235   0.423529      0.313725   0.321569   0.333333\n",
       " ⋮                                ⋱  ⋮                     \n",
       " 0.0235294  0.027451   0.027451   …  0.0313725  0.0352941  0.0352941\n",
       " 0.0196078  0.0196078  0.0235294     0.0313725  0.0313725  0.027451\n",
       " 0.0156863  0.0156863  0.0196078     0.027451   0.0313725  0.027451\n",
       " 0.0117647  0.0117647  0.0156863     0.0352941  0.0313725  0.027451\n",
       " 0.0156863  0.0117647  0.0156863     0.0313725  0.0313725  0.027451\n",
       " 0.0156863  0.0156863  0.0156863  …  0.0313725  0.0235294  0.0235294\n",
       " 0.0156863  0.0156863  0.0156863     0.027451   0.0235294  0.0235294\n",
       " 0.0196078  0.0156863  0.0156863     0.0156863  0.0235294  0.0235294\n",
       " 0.0156863  0.0117647  0.0156863     0.0196078  0.027451   0.0235294\n",
       " 0.0156863  0.0156863  0.0156863     0.0117647  0.027451   0.0235294\n",
       " 0.0156863  0.0196078  0.0196078  …  0.0156863  0.0196078  0.0235294\n",
       " 0.0117647  0.0156863  0.0196078     0.0196078  0.027451   0.027451"
      ]
     },
     "execution_count": 10,
     "metadata": {},
     "output_type": "execute_result"
    }
   ],
   "source": [
    "Gray.(reshape(faces[:,3],(192,168))/255)"
   ]
  },
  {
   "cell_type": "code",
   "execution_count": null,
   "id": "5cd47e08-dc8a-4a27-b244-236273c74c79",
   "metadata": {},
   "outputs": [],
   "source": []
  }
 ],
 "metadata": {
  "kernelspec": {
   "display_name": "Julia 1.11.5",
   "language": "julia",
   "name": "julia-1.11"
  },
  "language_info": {
   "file_extension": ".jl",
   "mimetype": "application/julia",
   "name": "julia",
   "version": "1.11.5"
  }
 },
 "nbformat": 4,
 "nbformat_minor": 5
}
