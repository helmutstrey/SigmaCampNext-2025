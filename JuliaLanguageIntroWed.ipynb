{
 "cells": [
  {
   "cell_type": "code",
   "execution_count": 1,
   "id": "bebbb363-aeb0-4cc0-a379-b0a8370644c1",
   "metadata": {},
   "outputs": [
    {
     "data": {
      "text/plain": [
       "f (generic function with 1 method)"
      ]
     },
     "execution_count": 1,
     "metadata": {},
     "output_type": "execute_result"
    }
   ],
   "source": [
    "f(x,y) = x + y"
   ]
  },
  {
   "cell_type": "code",
   "execution_count": 2,
   "id": "00073b75-3da8-4f20-88ed-45cab04f885c",
   "metadata": {},
   "outputs": [
    {
     "data": {
      "text/plain": [
       "4"
      ]
     },
     "execution_count": 2,
     "metadata": {},
     "output_type": "execute_result"
    }
   ],
   "source": [
    "f(1,3)"
   ]
  },
  {
   "cell_type": "code",
   "execution_count": 6,
   "id": "f87fb988-2e4e-4b32-81fd-4cc590a3931c",
   "metadata": {},
   "outputs": [
    {
     "name": "stdout",
     "output_type": "stream",
     "text": [
      "\u001b[90m; Function Signature: f(Int64, Int64)\u001b[39m\n",
      "\u001b[90m;  @ In[1]:1 within `f`\u001b[39m\n",
      "\u001b[95mdefine\u001b[39m \u001b[36mi64\u001b[39m \u001b[93m@julia_f_6621\u001b[39m\u001b[33m(\u001b[39m\u001b[36mi64\u001b[39m \u001b[95msignext\u001b[39m \u001b[0m%\"x::Int64\"\u001b[0m, \u001b[36mi64\u001b[39m \u001b[95msignext\u001b[39m \u001b[0m%\"y::Int64\"\u001b[33m)\u001b[39m \u001b[0m#0 \u001b[33m{\u001b[39m\n",
      "\u001b[91mtop:\u001b[39m\n",
      "\u001b[90m; ┌ @ int.jl:87 within `+`\u001b[39m\n",
      "   \u001b[0m%0 \u001b[0m= \u001b[96m\u001b[1madd\u001b[22m\u001b[39m \u001b[36mi64\u001b[39m \u001b[0m%\"y::Int64\"\u001b[0m, \u001b[0m%\"x::Int64\"\n",
      "   \u001b[96m\u001b[1mret\u001b[22m\u001b[39m \u001b[36mi64\u001b[39m \u001b[0m%0\n",
      "\u001b[90m; └\u001b[39m\n",
      "\u001b[33m}\u001b[39m\n"
     ]
    }
   ],
   "source": [
    "@code_llvm f(1,3)"
   ]
  },
  {
   "cell_type": "code",
   "execution_count": 4,
   "id": "5d3ca5d6-9b4e-4825-8c10-ad230f432ac1",
   "metadata": {},
   "outputs": [
    {
     "data": {
      "text/plain": [
       "Int64"
      ]
     },
     "execution_count": 4,
     "metadata": {},
     "output_type": "execute_result"
    }
   ],
   "source": [
    "typeof(f(1,3))"
   ]
  },
  {
   "cell_type": "code",
   "execution_count": 5,
   "id": "a6b3cc0c-e83e-4266-b4b1-8bba99fd8c2d",
   "metadata": {},
   "outputs": [
    {
     "data": {
      "text/plain": [
       "Float64"
      ]
     },
     "execution_count": 5,
     "metadata": {},
     "output_type": "execute_result"
    }
   ],
   "source": [
    "typeof(f(1.2,3))"
   ]
  },
  {
   "cell_type": "code",
   "execution_count": 7,
   "id": "f830dc02-9d56-4038-8fc9-0555a885c9a0",
   "metadata": {},
   "outputs": [
    {
     "data": {
      "text/html": [
       "# 1 method for generic function <b>f</b> from \u001b[35mMain\u001b[39m:<ul><li> f(x, y) in Main at In[1]:1</li> </ul>"
      ],
      "text/plain": [
       "# 1 method for generic function \"f\" from \u001b[35mMain\u001b[39m:\n",
       " [1] f(\u001b[90mx\u001b[39m, \u001b[90my\u001b[39m)\n",
       "\u001b[90m     @\u001b[39m \u001b[90m\u001b[4mIn[1]:1\u001b[24m\u001b[39m"
      ]
     },
     "execution_count": 7,
     "metadata": {},
     "output_type": "execute_result"
    }
   ],
   "source": [
    "methods(f)"
   ]
  },
  {
   "cell_type": "code",
   "execution_count": 8,
   "id": "eb3cc719-3351-4e62-a685-3fde8c86e6a9",
   "metadata": {},
   "outputs": [
    {
     "data": {
      "text/plain": [
       "f (generic function with 2 methods)"
      ]
     },
     "execution_count": 8,
     "metadata": {},
     "output_type": "execute_result"
    }
   ],
   "source": [
    "f(x::Int64,y::Float64) = x-y"
   ]
  },
  {
   "cell_type": "code",
   "execution_count": 9,
   "id": "e8a6db45-1fe3-436d-b798-2edefc967f7f",
   "metadata": {},
   "outputs": [
    {
     "data": {
      "text/html": [
       "# 2 methods for generic function <b>f</b> from \u001b[35mMain\u001b[39m:<ul><li> f(x::<b>Int64</b>, y::<b>Float64</b>) in Main at In[8]:1</li> <li> f(x, y) in Main at In[1]:1</li> </ul>"
      ],
      "text/plain": [
       "# 2 methods for generic function \"f\" from \u001b[35mMain\u001b[39m:\n",
       " [1] f(\u001b[90mx\u001b[39m::\u001b[1mInt64\u001b[22m, \u001b[90my\u001b[39m::\u001b[1mFloat64\u001b[22m)\n",
       "\u001b[90m     @\u001b[39m \u001b[90m\u001b[4mIn[8]:1\u001b[24m\u001b[39m\n",
       " [2] f(\u001b[90mx\u001b[39m, \u001b[90my\u001b[39m)\n",
       "\u001b[90m     @\u001b[39m \u001b[90m\u001b[4mIn[1]:1\u001b[24m\u001b[39m"
      ]
     },
     "execution_count": 9,
     "metadata": {},
     "output_type": "execute_result"
    }
   ],
   "source": [
    "methods(f)"
   ]
  },
  {
   "cell_type": "code",
   "execution_count": 10,
   "id": "519cbf06-ac88-40b1-a627-8a7ac1b9d933",
   "metadata": {},
   "outputs": [
    {
     "data": {
      "text/plain": [
       "-2.5"
      ]
     },
     "execution_count": 10,
     "metadata": {},
     "output_type": "execute_result"
    }
   ],
   "source": [
    "f(1,3.5)"
   ]
  },
  {
   "cell_type": "code",
   "execution_count": null,
   "id": "0ca7ec00-37fc-41bc-af31-89a9fb9ee43b",
   "metadata": {},
   "outputs": [],
   "source": []
  }
 ],
 "metadata": {
  "kernelspec": {
   "display_name": "Julia 1.11.5",
   "language": "julia",
   "name": "julia-1.11"
  },
  "language_info": {
   "file_extension": ".jl",
   "mimetype": "application/julia",
   "name": "julia",
   "version": "1.11.5"
  }
 },
 "nbformat": 4,
 "nbformat_minor": 5
}
