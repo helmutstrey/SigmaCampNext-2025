{
 "cells": [
  {
   "cell_type": "code",
   "execution_count": 1,
   "id": "cdbd108b-fc64-4eab-9d44-caab8760a408",
   "metadata": {},
   "outputs": [
    {
     "name": "stderr",
     "output_type": "stream",
     "text": [
      "\u001b[32m\u001b[1m  Activating\u001b[22m\u001b[39m project at `~/Documents/programming/SigmaCampNext-2025`\n"
     ]
    }
   ],
   "source": [
    "import Pkg\n",
    "Pkg.activate(\".\")"
   ]
  },
  {
   "cell_type": "code",
   "execution_count": 2,
   "id": "4ad61c4a-60e4-4054-86c9-8fd9c81d1bb8",
   "metadata": {},
   "outputs": [
    {
     "name": "stderr",
     "output_type": "stream",
     "text": [
      "\u001b[32m\u001b[1m   Resolving\u001b[22m\u001b[39m package versions...\n",
      "\u001b[32m\u001b[1m    Updating\u001b[22m\u001b[39m `~/Documents/programming/SigmaCampNext-2025/Project.toml`\n",
      "  \u001b[90m[47edcb42] \u001b[39m\u001b[92m+ ADTypes v1.16.0\u001b[39m\n",
      "  \u001b[90m[b2108857] \u001b[39m\u001b[92m+ Lux v1.16.0\u001b[39m\n",
      "  \u001b[90m[f1d291b0] \u001b[39m\u001b[92m+ MLUtils v0.4.8\u001b[39m\n",
      "  \u001b[90m[0b1bfda6] \u001b[39m\u001b[92m+ OneHotArrays v0.2.10\u001b[39m\n",
      "  \u001b[90m[3bd65402] \u001b[39m\u001b[92m+ Optimisers v0.4.6\u001b[39m\n",
      "  \u001b[90m[10745b16] \u001b[39m\u001b[92m+ Statistics v1.11.1\u001b[39m\n",
      "  \u001b[90m[e88e6eb3] \u001b[39m\u001b[92m+ Zygote v0.7.10\u001b[39m\n",
      "  \u001b[90m[de0858da] \u001b[39m\u001b[92m+ Printf v1.11.0\u001b[39m\n",
      "\u001b[32m\u001b[1m    Updating\u001b[22m\u001b[39m `~/Documents/programming/SigmaCampNext-2025/Manifest.toml`\n",
      "  \u001b[90m[47edcb42] \u001b[39m\u001b[92m+ ADTypes v1.16.0\u001b[39m\n",
      "  \u001b[90m[082447d4] \u001b[39m\u001b[92m+ ChainRules v1.72.5\u001b[39m\n",
      "  \u001b[90m[bbf7d656] \u001b[39m\u001b[92m+ CommonSubexpressions v0.3.1\u001b[39m\n",
      "  \u001b[90m[2569d6c7] \u001b[39m\u001b[92m+ ConcreteStructs v0.2.3\u001b[39m\n",
      "  \u001b[90m[163ba53b] \u001b[39m\u001b[92m+ DiffResults v1.1.0\u001b[39m\n",
      "  \u001b[90m[b552c78f] \u001b[39m\u001b[92m+ DiffRules v1.15.1\u001b[39m\n",
      "  \u001b[90m[8d63f2c5] \u001b[39m\u001b[92m+ DispatchDoctor v0.4.26\u001b[39m\n",
      "  \u001b[90m[f151be2c] \u001b[39m\u001b[92m+ EnzymeCore v0.8.12\u001b[39m\n",
      "  \u001b[90m[9aa1b823] \u001b[39m\u001b[92m+ FastClosures v0.3.2\u001b[39m\n",
      "  \u001b[90m[f6369f11] \u001b[39m\u001b[92m+ ForwardDiff v1.0.1\u001b[39m\n",
      "  \u001b[90m[d9f16b24] \u001b[39m\u001b[92m+ Functors v0.5.2\u001b[39m\n",
      "  \u001b[90m[7869d1d1] \u001b[39m\u001b[92m+ IRTools v0.4.15\u001b[39m\n",
      "  \u001b[90m[b2108857] \u001b[39m\u001b[92m+ Lux v1.16.0\u001b[39m\n",
      "  \u001b[90m[bb33d45b] \u001b[39m\u001b[92m+ LuxCore v1.3.0\u001b[39m\n",
      "  \u001b[90m[82251201] \u001b[39m\u001b[92m+ LuxLib v1.10.1\u001b[39m\n",
      "  \u001b[90m[7e8f7934] \u001b[39m\u001b[92m+ MLDataDevices v1.11.1\u001b[39m\n",
      "  \u001b[90m[0b1bfda6] \u001b[39m\u001b[92m+ OneHotArrays v0.2.10\u001b[39m\n",
      "  \u001b[90m[3bd65402] \u001b[39m\u001b[92m+ Optimisers v0.4.6\u001b[39m\n",
      "  \u001b[90m[f517fe37] \u001b[39m\u001b[92m+ Polyester v0.7.18\u001b[39m\n",
      "  \u001b[90m[dc90abb0] \u001b[39m\u001b[92m+ SparseInverseSubset v0.1.2\u001b[39m\n",
      "  \u001b[90m[7792a7ef] \u001b[39m\u001b[92m+ StrideArraysCore v0.5.7\u001b[39m\n",
      "  \u001b[90m[d49dbf32] \u001b[39m\u001b[92m+ WeightInitializers v1.1.4\u001b[39m\n",
      "  \u001b[90m[e88e6eb3] \u001b[39m\u001b[92m+ Zygote v0.7.10\u001b[39m\n",
      "  \u001b[90m[700de1a5] \u001b[39m\u001b[92m+ ZygoteRules v0.2.7\u001b[39m\n",
      "\u001b[92m\u001b[1mPrecompiling\u001b[22m\u001b[39m project...\n",
      "    462.5 ms\u001b[32m  ✓ \u001b[39mADTypes → ADTypesChainRulesCoreExt\n",
      "    424.3 ms\u001b[32m  ✓ \u001b[39m\u001b[90mIntervalArithmetic → IntervalArithmeticDiffRulesExt\u001b[39m\n",
      "    509.7 ms\u001b[32m  ✓ \u001b[39m\u001b[90mZygoteRules\u001b[39m\n",
      "    572.1 ms\u001b[32m  ✓ \u001b[39m\u001b[90mMLDataDevices\u001b[39m\n",
      "    888.1 ms\u001b[32m  ✓ \u001b[39m\u001b[90mDispatchDoctor\u001b[39m\n",
      "    769.2 ms\u001b[32m  ✓ \u001b[39mOptimisers\n",
      "    570.3 ms\u001b[32m  ✓ \u001b[39m\u001b[90mKernelAbstractions → EnzymeExt\u001b[39m\n",
      "    607.1 ms\u001b[32m  ✓ \u001b[39m\u001b[90mStrideArraysCore\u001b[39m\n",
      "    624.3 ms\u001b[32m  ✓ \u001b[39m\u001b[90mNNlib → NNlibEnzymeCoreExt\u001b[39m\n",
      "    665.0 ms\u001b[32m  ✓ \u001b[39mOneHotArrays\n",
      "    525.1 ms\u001b[32m  ✓ \u001b[39m\u001b[90mMLDataDevices → MLDataDevicesFillArraysExt\u001b[39m\n",
      "    615.6 ms\u001b[32m  ✓ \u001b[39m\u001b[90mMLDataDevices → MLDataDevicesChainRulesCoreExt\u001b[39m\n",
      "    449.8 ms\u001b[32m  ✓ \u001b[39m\u001b[90mMLDataDevices → MLDataDevicesSparseArraysExt\u001b[39m\n",
      "    471.4 ms\u001b[32m  ✓ \u001b[39m\u001b[90mDispatchDoctor → DispatchDoctorEnzymeCoreExt\u001b[39m\n",
      "   1567.6 ms\u001b[32m  ✓ \u001b[39m\u001b[90mWeightInitializers\u001b[39m\n",
      "    398.2 ms\u001b[32m  ✓ \u001b[39m\u001b[90mDispatchDoctor → DispatchDoctorChainRulesCoreExt\u001b[39m\n",
      "    467.6 ms\u001b[32m  ✓ \u001b[39mOptimisers → OptimisersEnzymeCoreExt\n",
      "    392.1 ms\u001b[32m  ✓ \u001b[39mOptimisers → OptimisersAdaptExt\n",
      "    685.1 ms\u001b[32m  ✓ \u001b[39m\u001b[90mLuxCore\u001b[39m\n",
      "   2035.2 ms\u001b[32m  ✓ \u001b[39m\u001b[90mForwardDiff\u001b[39m\n",
      "   1107.7 ms\u001b[32m  ✓ \u001b[39m\u001b[90mMLDataDevices → MLDataDevicesMLUtilsExt\u001b[39m\n",
      "    599.8 ms\u001b[32m  ✓ \u001b[39m\u001b[90mPolyester\u001b[39m\n",
      "    712.1 ms\u001b[32m  ✓ \u001b[39m\u001b[90mWeightInitializers → WeightInitializersChainRulesCoreExt\u001b[39m\n",
      "    815.5 ms\u001b[32m  ✓ \u001b[39m\u001b[90mMLDataDevices → MLDataDevicesOneHotArraysExt\u001b[39m\n",
      "    458.9 ms\u001b[32m  ✓ \u001b[39m\u001b[90mLuxCore → LuxCoreEnzymeCoreExt\u001b[39m\n",
      "    488.7 ms\u001b[32m  ✓ \u001b[39m\u001b[90mLuxCore → LuxCoreFunctorsExt\u001b[39m\n",
      "    490.8 ms\u001b[32m  ✓ \u001b[39m\u001b[90mLuxCore → LuxCoreChainRulesCoreExt\u001b[39m\n",
      "    437.4 ms\u001b[32m  ✓ \u001b[39m\u001b[90mLuxCore → LuxCoreSetfieldExt\u001b[39m\n",
      "    385.0 ms\u001b[32m  ✓ \u001b[39m\u001b[90mLuxCore → LuxCoreMLDataDevicesExt\u001b[39m\n",
      "    529.5 ms\u001b[32m  ✓ \u001b[39m\u001b[90mUnitful → ForwardDiffExt\u001b[39m\n",
      "    436.3 ms\u001b[32m  ✓ \u001b[39m\u001b[90mIntervalArithmetic → IntervalArithmeticForwardDiffExt\u001b[39m\n",
      "    743.4 ms\u001b[32m  ✓ \u001b[39m\u001b[90mForwardDiff → ForwardDiffStaticArraysExt\u001b[39m\n",
      "    640.2 ms\u001b[32m  ✓ \u001b[39m\u001b[90mNNlib → NNlibForwardDiffExt\u001b[39m\n",
      "    647.0 ms\u001b[32m  ✓ \u001b[39m\u001b[90mLoopVectorization → ForwardDiffExt\u001b[39m\n",
      "    750.8 ms\u001b[32m  ✓ \u001b[39m\u001b[90mInterpolations → InterpolationsForwardDiffExt\u001b[39m\n",
      "   3407.3 ms\u001b[32m  ✓ \u001b[39m\u001b[90mChainRules\u001b[39m\n",
      "    746.3 ms\u001b[32m  ✓ \u001b[39m\u001b[90mArrayInterface → ArrayInterfaceChainRulesExt\u001b[39m\n",
      "    747.2 ms\u001b[32m  ✓ \u001b[39m\u001b[90mMLDataDevices → MLDataDevicesChainRulesExt\u001b[39m\n",
      "   3836.0 ms\u001b[32m  ✓ \u001b[39m\u001b[90mLuxLib\u001b[39m\n",
      "   1228.1 ms\u001b[32m  ✓ \u001b[39m\u001b[90mLuxLib → LuxLibLoopVectorizationExt\u001b[39m\n",
      "   1457.4 ms\u001b[32m  ✓ \u001b[39m\u001b[90mLuxLib → LuxLibSLEEFPiratesExt\u001b[39m\n",
      "   4528.6 ms\u001b[32m  ✓ \u001b[39mLux\n",
      "   1363.5 ms\u001b[32m  ✓ \u001b[39mLux → LuxMLUtilsExt\n",
      "  12633.8 ms\u001b[32m  ✓ \u001b[39mZygote\n",
      "   1085.2 ms\u001b[32m  ✓ \u001b[39m\u001b[90mMLDataDevices → MLDataDevicesZygoteExt\u001b[39m\n",
      "   1232.2 ms\u001b[32m  ✓ \u001b[39mZygote → ZygoteColorsExt\n",
      "   1459.3 ms\u001b[32m  ✓ \u001b[39mZygote → ZygoteDistancesExt\n",
      "   1674.6 ms\u001b[32m  ✓ \u001b[39mLux → LuxZygoteExt\n",
      "  48 dependencies successfully precompiled in 19 seconds. 468 already precompiled.\n"
     ]
    }
   ],
   "source": [
    "Pkg.add([\"Lux\", \"ADTypes\", \"MLUtils\", \"Optimisers\", \"Zygote\", \"OneHotArrays\", \"Random\", \"Statistics\", \"Printf\", \"MLDatasets\"])"
   ]
  },
  {
   "cell_type": "code",
   "execution_count": 3,
   "id": "2f92f05f-58aa-44d4-a983-b1fa5d3ce056",
   "metadata": {},
   "outputs": [],
   "source": [
    "using Lux, ADTypes, MLUtils, Optimisers, Zygote, OneHotArrays, Random, Statistics, Printf\n",
    "using MLDatasets: MNIST"
   ]
  },
  {
   "cell_type": "code",
   "execution_count": 4,
   "id": "271de7e1-c49b-4fdd-ba4a-75654e23d4f1",
   "metadata": {},
   "outputs": [
    {
     "data": {
      "text/plain": [
       "loadmnist (generic function with 1 method)"
      ]
     },
     "execution_count": 4,
     "metadata": {},
     "output_type": "execute_result"
    }
   ],
   "source": [
    "function loadmnist(batchsize, train_split)\n",
    "    # Load MNIST\n",
    "    N = 60000\n",
    "    dataset = MNIST(; split=:train)\n",
    "    imgs = dataset.features[:, :, 1:N]\n",
    "    labels_raw = dataset.targets[1:N]\n",
    "\n",
    "    # Process images into (H, W, C, BS) batches\n",
    "    x_data = Float32.(reshape(imgs, size(imgs, 1), size(imgs, 2), 1, size(imgs, 3)))\n",
    "    y_data = onehotbatch(labels_raw, 0:9)\n",
    "    (x_train, y_train), (x_test, y_test) = splitobs((x_data, y_data); at=train_split)\n",
    "\n",
    "    return (\n",
    "        # Use DataLoader to automatically minibatch and shuffle the data\n",
    "        DataLoader(collect.((x_train, y_train)); batchsize, shuffle=true),\n",
    "        # Don't shuffle the test data\n",
    "        DataLoader(collect.((x_test, y_test)); batchsize, shuffle=false))\n",
    "end"
   ]
  },
  {
   "cell_type": "code",
   "execution_count": 5,
   "id": "8383b87b-964a-4416-b96d-c7e87676c4f0",
   "metadata": {},
   "outputs": [
    {
     "data": {
      "text/plain": [
       "Chain(\n",
       "    layer_1 = Conv((5, 5), 1 => 6, relu),  \u001b[90m# 156 parameters\u001b[39m\n",
       "    layer_2 = MaxPool((2, 2)),\n",
       "    layer_3 = Conv((5, 5), 6 => 16, relu),  \u001b[90m# 2_416 parameters\u001b[39m\n",
       "    layer_4 = MaxPool((2, 2)),\n",
       "    layer_5 = FlattenLayer{Static.StaticInt{3}}(static(3)),\n",
       "    layer_6 = Chain(\n",
       "        layer_1 = Dense(256 => 128, relu),  \u001b[90m# 32_896 parameters\u001b[39m\n",
       "        layer_2 = Dense(128 => 84, relu),  \u001b[90m# 10_836 parameters\u001b[39m\n",
       "        layer_3 = Dense(84 => 10),      \u001b[90m# 850 parameters\u001b[39m\n",
       "    ),\n",
       ") \u001b[90m        # Total: \u001b[39m47_154 parameters,\n",
       "\u001b[90m          #        plus \u001b[39m0 states."
      ]
     },
     "execution_count": 5,
     "metadata": {},
     "output_type": "execute_result"
    }
   ],
   "source": [
    "lux_model = Chain(Conv((5, 5), 1 => 6, relu), MaxPool((2, 2)),\n",
    "    Conv((5, 5), 6 => 16, relu), MaxPool((2, 2)), FlattenLayer(3),\n",
    "    Chain(Dense(256 => 128, relu), Dense(128 => 84, relu),Dense(84 => 10)))"
   ]
  },
  {
   "cell_type": "code",
   "execution_count": 6,
   "id": "97a0b221-c70d-4b63-a695-ccbd9d7f778b",
   "metadata": {},
   "outputs": [
    {
     "data": {
      "text/plain": [
       "Chain(\n",
       "    layer_1 = Conv((3, 3), 1 => 32, relu),  \u001b[90m# 320 parameters\u001b[39m\n",
       "    layer_2 = Conv((3, 3), 32 => 64, relu),  \u001b[90m# 18_496 parameters\u001b[39m\n",
       "    layer_3 = MaxPool((3, 3)),\n",
       "    layer_4 = Dropout(0.5),\n",
       "    layer_5 = FlattenLayer{Static.StaticInt{3}}(static(3)),\n",
       "    layer_6 = Chain(\n",
       "        layer_1 = Dense(4096 => 250, relu),  \u001b[90m# 1_024_250 parameters\u001b[39m\n",
       "        layer_2 = Dense(250 => 10),     \u001b[90m# 2_510 parameters\u001b[39m\n",
       "    ),\n",
       ") \u001b[90m        # Total: \u001b[39m1_045_576 parameters,\n",
       "\u001b[90m          #        plus \u001b[39m2 states."
      ]
     },
     "execution_count": 6,
     "metadata": {},
     "output_type": "execute_result"
    }
   ],
   "source": [
    "lux_model2 = Chain(Conv((3, 3), 1 => 32, relu), Conv((3, 3), 32 => 64, relu), MaxPool((3, 3)),\n",
    "    Dropout(0.5), FlattenLayer(3),\n",
    "    Chain(Dense( 4096 => 250, relu), Dense(250 => 10)))"
   ]
  },
  {
   "cell_type": "code",
   "execution_count": 7,
   "id": "c383d29c-034a-46b6-adf9-c722e38fbdd6",
   "metadata": {},
   "outputs": [
    {
     "data": {
      "text/plain": [
       "accuracy (generic function with 1 method)"
      ]
     },
     "execution_count": 7,
     "metadata": {},
     "output_type": "execute_result"
    }
   ],
   "source": [
    "const loss = CrossEntropyLoss(; logits=Val(true))\n",
    "\n",
    "function accuracy(model, ps, st, dataloader)\n",
    "    total_correct, total = 0, 0\n",
    "    st = Lux.testmode(st)\n",
    "    for (x, y) in dataloader\n",
    "        target_class = onecold(y)\n",
    "        predicted_class = onecold(Array(first(model(x, ps, st))))\n",
    "        total_correct += sum(target_class .== predicted_class)\n",
    "        total += length(target_class)\n",
    "    end\n",
    "    return total_correct / total\n",
    "end"
   ]
  },
  {
   "cell_type": "code",
   "execution_count": 8,
   "id": "6b0a44e4-097c-429c-9a63-edeca10db066",
   "metadata": {},
   "outputs": [
    {
     "data": {
      "text/plain": [
       "train (generic function with 1 method)"
      ]
     },
     "execution_count": 8,
     "metadata": {},
     "output_type": "execute_result"
    }
   ],
   "source": [
    "function train(model; rng=Xoshiro(0), kwargs...)\n",
    "    train_dataloader, test_dataloader = loadmnist(128, 0.9)\n",
    "    ps, st = Lux.setup(rng, model)\n",
    "\n",
    "    train_state = Training.TrainState(model, ps, st, Adam(3.0f-4))\n",
    "\n",
    "    ### Warmup the model\n",
    "    x_proto = randn(rng, Float32, 28, 28, 1, 1)\n",
    "    y_proto = onehotbatch([1], 0:9)\n",
    "    Training.compute_gradients(AutoZygote(), loss, (x_proto, y_proto), train_state)\n",
    "\n",
    "    ### Lets train the model\n",
    "    nepochs = 10\n",
    "    tr_acc, te_acc = 0.0, 0.0\n",
    "    for epoch in 1:nepochs\n",
    "        stime = time()\n",
    "        for (x, y) in train_dataloader\n",
    "            gs, _, _, train_state = Training.single_train_step!(\n",
    "                AutoZygote(), loss, (x, y), train_state)\n",
    "        end\n",
    "        ttime = time() - stime\n",
    "\n",
    "        tr_acc = accuracy(\n",
    "            model, train_state.parameters, train_state.states, train_dataloader) * 100\n",
    "        te_acc = accuracy(\n",
    "            model, train_state.parameters, train_state.states, test_dataloader) * 100\n",
    "\n",
    "        @printf \"[%2d/%2d] \\t Time %.2fs \\t Training Accuracy: %.2f%% \\t Test Accuracy: \\\n",
    "                 %.2f%%\\n\" epoch nepochs ttime tr_acc te_acc\n",
    "    end\n",
    "\n",
    "    return tr_acc, te_acc\n",
    "end"
   ]
  },
  {
   "cell_type": "code",
   "execution_count": 9,
   "id": "e872e158-04d4-453c-9d6b-927c7ad4fabb",
   "metadata": {},
   "outputs": [
    {
     "name": "stdout",
     "output_type": "stream",
     "text": [
      "This program has requested access to the data dependency MNIST.\n",
      "which is not currently installed. It can be installed automatically, and you will not see this message again.\n",
      "\n",
      "Dataset: THE MNIST DATABASE of handwritten digits\n",
      "Authors: Yann LeCun, Corinna Cortes, Christopher J.C. Burges\n",
      "Website: http://yann.lecun.com/exdb/mnist/\n",
      "\n",
      "[LeCun et al., 1998a]\n",
      "    Y. LeCun, L. Bottou, Y. Bengio, and P. Haffner.\n",
      "    \"Gradient-based learning applied to document recognition.\"\n",
      "    Proceedings of the IEEE, 86(11):2278-2324, November 1998\n",
      "\n",
      "The files are available for download at the offical\n",
      "website linked above. Note that using the data\n",
      "responsibly and respecting copyright remains your\n",
      "responsibility. The authors of MNIST aren't really\n",
      "explicit about any terms of use, so please read the\n",
      "website to make sure you want to download the\n",
      "dataset.\n",
      "\n",
      "\n",
      "\n",
      "Do you want to download the dataset from [\"https://ossci-datasets.s3.amazonaws.com/mnist/train-images-idx3-ubyte.gz\", \"https://ossci-datasets.s3.amazonaws.com/mnist/train-labels-idx1-ubyte.gz\", \"https://ossci-datasets.s3.amazonaws.com/mnist/t10k-images-idx3-ubyte.gz\", \"https://ossci-datasets.s3.amazonaws.com/mnist/t10k-labels-idx1-ubyte.gz\"] to \"/Users/hstrey/.julia/scratchspaces/124859b0-ceae-595e-8997-d05f6a7a8dfe/datadeps/MNIST\"?\n",
      "[y/n]\n"
     ]
    },
    {
     "name": "stdin",
     "output_type": "stream",
     "text": [
      "stdin>  y\n"
     ]
    },
    {
     "name": "stdout",
     "output_type": "stream",
     "text": [
      "[ 1/10] \t Time 7.04s \t Training Accuracy: 91.63% \t Test Accuracy: 93.53%\n",
      "[ 2/10] \t Time 5.11s \t Training Accuracy: 94.98% \t Test Accuracy: 95.65%\n",
      "[ 3/10] \t Time 5.13s \t Training Accuracy: 96.50% \t Test Accuracy: 96.93%\n",
      "[ 4/10] \t Time 5.12s \t Training Accuracy: 97.34% \t Test Accuracy: 97.38%\n",
      "[ 5/10] \t Time 5.09s \t Training Accuracy: 97.40% \t Test Accuracy: 97.45%\n",
      "[ 6/10] \t Time 5.06s \t Training Accuracy: 98.01% \t Test Accuracy: 97.72%\n",
      "[ 7/10] \t Time 5.06s \t Training Accuracy: 98.24% \t Test Accuracy: 97.78%\n",
      "[ 8/10] \t Time 5.05s \t Training Accuracy: 98.56% \t Test Accuracy: 98.13%\n",
      "[ 9/10] \t Time 5.06s \t Training Accuracy: 98.54% \t Test Accuracy: 98.08%\n",
      "[10/10] \t Time 5.13s \t Training Accuracy: 98.61% \t Test Accuracy: 98.00%\n"
     ]
    },
    {
     "data": {
      "text/plain": [
       "(98.61111111111111, 98.0)"
      ]
     },
     "execution_count": 9,
     "metadata": {},
     "output_type": "execute_result"
    }
   ],
   "source": [
    "tr_acc, te_acc = train(lux_model)"
   ]
  },
  {
   "cell_type": "code",
   "execution_count": 10,
   "id": "fb3e1ca1-bf16-46ef-bf79-b66f7156ed90",
   "metadata": {},
   "outputs": [
    {
     "name": "stdout",
     "output_type": "stream",
     "text": [
      "[ 1/10] \t Time 70.71s \t Training Accuracy: 97.97% \t Test Accuracy: 98.33%\n",
      "[ 2/10] \t Time 69.48s \t Training Accuracy: 98.70% \t Test Accuracy: 98.68%\n",
      "[ 3/10] \t Time 69.18s \t Training Accuracy: 99.11% \t Test Accuracy: 98.90%\n",
      "[ 4/10] \t Time 68.65s \t Training Accuracy: 99.23% \t Test Accuracy: 98.85%\n",
      "[ 5/10] \t Time 70.56s \t Training Accuracy: 99.55% \t Test Accuracy: 99.08%\n",
      "[ 6/10] \t Time 79.19s \t Training Accuracy: 99.54% \t Test Accuracy: 99.02%\n",
      "[ 7/10] \t Time 69.50s \t Training Accuracy: 99.68% \t Test Accuracy: 99.15%\n",
      "[ 8/10] \t Time 69.14s \t Training Accuracy: 99.73% \t Test Accuracy: 99.22%\n",
      "[ 9/10] \t Time 73.28s \t Training Accuracy: 99.72% \t Test Accuracy: 99.18%\n",
      "[10/10] \t Time 69.17s \t Training Accuracy: 99.85% \t Test Accuracy: 99.28%\n"
     ]
    },
    {
     "data": {
      "text/plain": [
       "(99.8537037037037, 99.28333333333333)"
      ]
     },
     "execution_count": 10,
     "metadata": {},
     "output_type": "execute_result"
    }
   ],
   "source": [
    "tr_acc2, te_acc2 = train(lux_model2)"
   ]
  },
  {
   "cell_type": "code",
   "execution_count": 34,
   "id": "3214929f-7d3f-4d3a-8f8b-647b603f6866",
   "metadata": {},
   "outputs": [
    {
     "data": {
      "text/plain": [
       "f (generic function with 1 method)"
      ]
     },
     "execution_count": 34,
     "metadata": {},
     "output_type": "execute_result"
    }
   ],
   "source": [
    "f(x,y) = 2*x + 3*y"
   ]
  },
  {
   "cell_type": "code",
   "execution_count": 36,
   "id": "ef2001a3-da8a-41cf-a44f-bc1cb0c9bcfe",
   "metadata": {},
   "outputs": [
    {
     "name": "stdout",
     "output_type": "stream",
     "text": [
      "\u001b[90m;  @ In[34]:1 within `f`\u001b[39m\n",
      "\u001b[95mdefine\u001b[39m \u001b[36mi64\u001b[39m \u001b[93m@julia_f_23589\u001b[39m\u001b[33m(\u001b[39m\u001b[36mi64\u001b[39m \u001b[95msignext\u001b[39m \u001b[0m%0\u001b[0m, \u001b[36mi64\u001b[39m \u001b[95msignext\u001b[39m \u001b[0m%1\u001b[33m)\u001b[39m \u001b[0m#0 \u001b[33m{\u001b[39m\n",
      "\u001b[91mtop:\u001b[39m\n",
      "\u001b[90m; ┌ @ int.jl:88 within `*`\u001b[39m\n",
      "   \u001b[0m%2 \u001b[0m= \u001b[96m\u001b[1mshl\u001b[22m\u001b[39m \u001b[36mi64\u001b[39m \u001b[0m%0\u001b[0m, \u001b[33m1\u001b[39m\n",
      "   \u001b[0m%3 \u001b[0m= \u001b[96m\u001b[1mmul\u001b[22m\u001b[39m \u001b[36mi64\u001b[39m \u001b[0m%1\u001b[0m, \u001b[33m3\u001b[39m\n",
      "\u001b[90m; └\u001b[39m\n",
      "\u001b[90m; ┌ @ int.jl:87 within `+`\u001b[39m\n",
      "   \u001b[0m%4 \u001b[0m= \u001b[96m\u001b[1madd\u001b[22m\u001b[39m \u001b[36mi64\u001b[39m \u001b[0m%3\u001b[0m, \u001b[0m%2\n",
      "   \u001b[96m\u001b[1mret\u001b[22m\u001b[39m \u001b[36mi64\u001b[39m \u001b[0m%4\n",
      "\u001b[90m; └\u001b[39m\n",
      "\u001b[33m}\u001b[39m\n"
     ]
    }
   ],
   "source": [
    "@code_llvm f(2,3)"
   ]
  },
  {
   "cell_type": "code",
   "execution_count": null,
   "id": "1bda317f-5ad7-4c25-bfdf-e5032eb27051",
   "metadata": {},
   "outputs": [],
   "source": []
  }
 ],
 "metadata": {
  "kernelspec": {
   "display_name": "Julia 1.11.5",
   "language": "julia",
   "name": "julia-1.11"
  },
  "language_info": {
   "file_extension": ".jl",
   "mimetype": "application/julia",
   "name": "julia",
   "version": "1.11.5"
  }
 },
 "nbformat": 4,
 "nbformat_minor": 5
}
