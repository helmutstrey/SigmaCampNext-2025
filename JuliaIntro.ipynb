{
 "cells": [
  {
   "cell_type": "code",
   "execution_count": 1,
   "id": "6b2106e4-a8d7-4742-83a6-d8a2828bbf56",
   "metadata": {},
   "outputs": [
    {
     "name": "stderr",
     "output_type": "stream",
     "text": [
      "\u001b[32m\u001b[1m  Activating\u001b[22m\u001b[39m project at `~/Documents/programming/SigmaCampNext-2025`\n"
     ]
    }
   ],
   "source": [
    "import Pkg\n",
    "Pkg.activate(\".\")"
   ]
  },
  {
   "cell_type": "code",
   "execution_count": 4,
   "id": "cd8b48ef-92b9-457b-b229-c57490d2f219",
   "metadata": {},
   "outputs": [],
   "source": [
    "using LinearAlgebra, Random"
   ]
  },
  {
   "cell_type": "code",
   "execution_count": 5,
   "id": "c42efcd3-cb55-472a-a976-dd962ff68602",
   "metadata": {},
   "outputs": [
    {
     "data": {
      "text/plain": [
       "3×4 Matrix{Float64}:\n",
       " -1.45333   -0.26645  -0.934921   0.896855\n",
       " -0.106163   1.33519   0.352183  -1.15279\n",
       " -0.906376   1.64323  -0.443773   0.847174"
      ]
     },
     "execution_count": 5,
     "metadata": {},
     "output_type": "execute_result"
    }
   ],
   "source": [
    "randn(3,4)"
   ]
  },
  {
   "cell_type": "code",
   "execution_count": 6,
   "id": "7f98874c-aadc-4e31-bffc-fb90d5f4c359",
   "metadata": {},
   "outputs": [
    {
     "data": {
      "text/plain": [
       "4-element Vector{Float64}:\n",
       " -0.6238347615555837\n",
       " -1.952878467674281\n",
       "  0.6648902859401363\n",
       " -1.103990404134145"
      ]
     },
     "execution_count": 6,
     "metadata": {},
     "output_type": "execute_result"
    }
   ],
   "source": [
    "randn(4)"
   ]
  },
  {
   "cell_type": "code",
   "execution_count": 7,
   "id": "4c0dc0bf-9863-4a65-adf1-25a739f6b3ec",
   "metadata": {},
   "outputs": [
    {
     "data": {
      "text/plain": [
       "3×4 Matrix{Float64}:\n",
       " 2.0483     0.84094    0.194761   0.32665\n",
       " 1.14124    0.610021   1.2327    -0.364846\n",
       " 0.665623  -0.436248  -1.90827   -0.63953"
      ]
     },
     "execution_count": 7,
     "metadata": {},
     "output_type": "execute_result"
    }
   ],
   "source": [
    "A = randn(3,4)"
   ]
  },
  {
   "cell_type": "code",
   "execution_count": 8,
   "id": "4911c554-efce-4754-a512-6cdfa03e2c5e",
   "metadata": {},
   "outputs": [
    {
     "data": {
      "text/plain": [
       "4-element Vector{Float64}:\n",
       "  0.4906323601731992\n",
       " -0.14786950820220282\n",
       "  0.7595919819323393\n",
       " -0.6500971187212747"
      ]
     },
     "execution_count": 8,
     "metadata": {},
     "output_type": "execute_result"
    }
   ],
   "source": [
    "x = randn(4)"
   ]
  },
  {
   "cell_type": "code",
   "execution_count": 9,
   "id": "08e85f9f-b4f5-460a-ac24-647a2178ec6b",
   "metadata": {},
   "outputs": [
    {
     "data": {
      "text/plain": [
       "3-element Vector{Float64}:\n",
       "  0.8161964836201667\n",
       "  1.643260665427587\n",
       " -0.6426641827734565"
      ]
     },
     "execution_count": 9,
     "metadata": {},
     "output_type": "execute_result"
    }
   ],
   "source": [
    "A*x"
   ]
  },
  {
   "cell_type": "code",
   "execution_count": null,
   "id": "c372aaa0-751b-4172-8ade-0648f744fdca",
   "metadata": {},
   "outputs": [],
   "source": []
  }
 ],
 "metadata": {
  "kernelspec": {
   "display_name": "Julia 1.11.5",
   "language": "julia",
   "name": "julia-1.11"
  },
  "language_info": {
   "file_extension": ".jl",
   "mimetype": "application/julia",
   "name": "julia",
   "version": "1.11.5"
  }
 },
 "nbformat": 4,
 "nbformat_minor": 5
}
